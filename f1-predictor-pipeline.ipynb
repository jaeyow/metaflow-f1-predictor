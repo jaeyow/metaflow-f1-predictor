{
 "cells": [
  {
   "cell_type": "markdown",
   "metadata": {},
   "source": [
    "## Import the metaflow client"
   ]
  },
  {
   "cell_type": "code",
   "execution_count": 1,
   "metadata": {},
   "outputs": [
    {
     "name": "stdout",
     "output_type": "stream",
     "text": [
      "Current metadata provider: local@/Users/josereyes/Dev/metaflow-f1-predictor\n"
     ]
    }
   ],
   "source": [
    "from metaflow import Flow, get_metadata\n",
    "print(\"Current metadata provider: %s\" % get_metadata())"
   ]
  },
  {
   "cell_type": "markdown",
   "metadata": {},
   "source": [
    "## Print your latest run"
   ]
  },
  {
   "cell_type": "code",
   "execution_count": 2,
   "metadata": {},
   "outputs": [
    {
     "name": "stdout",
     "output_type": "stream",
     "text": [
      "Run('F1PredictorPipeline/1656059094729357')\n"
     ]
    }
   ],
   "source": [
    "run = Flow('F1PredictorPipeline').latest_successful_run\n",
    "print(run)"
   ]
  },
  {
   "cell_type": "code",
   "execution_count": 3,
   "metadata": {},
   "outputs": [
    {
     "name": "stdout",
     "output_type": "stream",
     "text": [
      "DataCollectionFlow finished at on 2022-06-24 18:24:59.170000\n",
      "\n"
     ]
    }
   ],
   "source": [
    "print(\"DataCollectionFlow finished at on %s\\n\" % str(run.finished_at))"
   ]
  },
  {
   "cell_type": "code",
   "execution_count": null,
   "metadata": {},
   "outputs": [],
   "source": []
  }
 ],
 "metadata": {
  "kernelspec": {
   "display_name": "Python 3.10.4 64-bit ('3.10.4')",
   "language": "python",
   "name": "python3"
  },
  "language_info": {
   "codemirror_mode": {
    "name": "ipython",
    "version": 3
   },
   "file_extension": ".py",
   "mimetype": "text/x-python",
   "name": "python",
   "nbconvert_exporter": "python",
   "pygments_lexer": "ipython3",
   "version": "3.10.4"
  },
  "vscode": {
   "interpreter": {
    "hash": "71bd9336a834ff0b433c4c73384d4f20ba5e80f93b6f495917d06e4978069b5b"
   }
  }
 },
 "nbformat": 4,
 "nbformat_minor": 2
}
